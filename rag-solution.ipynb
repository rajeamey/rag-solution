{
 "cells": [
  {
   "cell_type": "code",
   "execution_count": 19,
   "id": "8908fb71-e8bf-4da5-9fce-e3bbf59130b3",
   "metadata": {},
   "outputs": [],
   "source": [
    "import faiss\n",
    "import numpy as np\n",
    "import os\n",
    "import openai\n",
    "OPENAI_KEY = os.environ.get(\"PERSONAL_OPENAI_KEY\")\n",
    "# initialize openai client\n",
    "openai_client = openai.OpenAI(api_key=OPENAI_KEY)"
   ]
  },
  {
   "cell_type": "code",
   "execution_count": 20,
   "id": "773400e4-9ccb-4824-930b-43fa0b575106",
   "metadata": {},
   "outputs": [],
   "source": [
    "def load_press_release_data(data_folder: str) -> list:\n",
    "    \"\"\"\n",
    "        load files data into an array\n",
    "    \"\"\"\n",
    "    release_data: list = []\n",
    "    files: list[str] = os.listdir(data_folder)\n",
    "    for file_name in files:\n",
    "        if file_name.endswith('.txt'):\n",
    "            file_path = os.path.join(data_folder, file_name)\n",
    "            text = open(file_path, encoding='utf-8').read().replace(\"\\n\", \" \")\n",
    "            release_data.append(text)\n",
    "\n",
    "    return release_data"
   ]
  },
  {
   "cell_type": "code",
   "execution_count": 21,
   "id": "f9d7b3ff-12b4-42be-8125-329cd65bc2bb",
   "metadata": {},
   "outputs": [],
   "source": [
    "def generate_embedding(text: str, model: str =\"text-embedding-3-small\") -> list:\n",
    "    \"\"\"\n",
    "       This method will generate vector embeddings\n",
    "       for text using OPENAI's embedding API.\n",
    "    \"\"\"\n",
    "    text = text.replace('\\n', \" \")\n",
    "    return openai_client.embeddings.create(input = [text], model=model).data[0].embedding\n"
   ]
  },
  {
   "cell_type": "code",
   "execution_count": 22,
   "id": "c172beb2-b952-4118-8f22-d2c64219dfc9",
   "metadata": {},
   "outputs": [],
   "source": [
    "def store_embeddings(embeddings_folder: str, file_name: str, embedding: list) -> None:\n",
    "    \"\"\"\n",
    "    This method stores generated embeddings into a folder \n",
    "    inorder to fetch them without regenerating them.\n",
    "    \"\"\"\n",
    "    if not os.path.exists(embeddings_folder):\n",
    "        os.mkdir(embeddings_folder)\n",
    "    with open(os.path.join(embeddings_folder, file_name), \"w\") as file_object:\n",
    "        file_object.write(str(embedding))\n"
   ]
  },
  {
   "cell_type": "code",
   "execution_count": 23,
   "id": "ff4b87ef-8c79-4167-a2b8-1e9d62ef268b",
   "metadata": {},
   "outputs": [],
   "source": [
    "def fetch_embeddings(embeddings_folder: str) -> list[list]:\n",
    "    \"\"\"\n",
    "    This method fetches already generated embeddings from\n",
    "    embeddings folder.\n",
    "    \"\"\"\n",
    "    embeddings: list[list] = []\n",
    "    files: list[str] = os.listdir(embeddings_folder)\n",
    "    for file_name in files:\n",
    "        if file_name.endswith('.txt'):\n",
    "            file_path: str = os.path.join(embeddings_folder, file_name)\n",
    "            # convert array stored as string back to list\n",
    "            embeddings.append(eval(open(file_path, encoding='utf-8').read()))\n",
    "    return embeddings\n"
   ]
  },
  {
   "cell_type": "code",
   "execution_count": 24,
   "id": "e4675b07-02f8-4d5d-a076-dca950769e32",
   "metadata": {},
   "outputs": [],
   "source": [
    "def generate_index(embeddings: list[list]):\n",
    "    \"\"\"\n",
    "    This method generates index of vector embeddings.\n",
    "    Uses FAISS retrival model to generate in-memory vector DB index.\n",
    "    Return index object\n",
    "    \"\"\"\n",
    "    dimension: int = len(embeddings[0])\n",
    "    # generate index\n",
    "    index = faiss.IndexFlatL2(dimension)\n",
    "    # add data embeddings to index\n",
    "    index.add(embeddings)\n",
    "    return index"
   ]
  },
  {
   "cell_type": "code",
   "execution_count": 25,
   "id": "8ba6ef08-0cb8-4e09-9d4d-e12c3a944db4",
   "metadata": {},
   "outputs": [],
   "source": [
    "def retrieval_service(index, release_data: list[str], question: str, top_k: int = 5) -> list[str]:\n",
    "    \"\"\"\n",
    "    This method retrives docs using semantic search on index.\n",
    "    Returns actual data matched based on search\n",
    "    \"\"\"\n",
    "    # generate embeddings for question being asked\n",
    "    question_embedding: list = generate_embedding(question)\n",
    "    # search index for matching indices\n",
    "    distances, indices = index.search(np.array([question_embedding]), top_k)\n",
    "    return [release_data[idx] for idx in indices[0]]\n"
   ]
  },
  {
   "cell_type": "code",
   "execution_count": 26,
   "id": "b9471a1e-5a42-422c-aeb6-862552e7a1d2",
   "metadata": {},
   "outputs": [],
   "source": [
    "def generate_response(context: str, question: str) -> str:\n",
    "    \"\"\"\n",
    "    This method provides context and question to OPENAI API\n",
    "    and to get response from LLM.\n",
    "    \"\"\"\n",
    "    prompt = f\"Given the context: {context}, provide an answer to the question: `{question}`.\"\n",
    "    # OPENAI API call to LLM\n",
    "    response = openai_client.chat.completions.create(\n",
    "        model=\"gpt-3.5-turbo\",\n",
    "        messages=[\n",
    "            {'role': 'system', 'content': \"You have to answer question based on context given\"},\n",
    "            {'role': 'user', 'content': prompt}\n",
    "        ],\n",
    "        temperature=0\n",
    "    )\n",
    "    return response.choices[0].message.content\n"
   ]
  },
  {
   "cell_type": "code",
   "execution_count": 27,
   "id": "43f1da0f-1014-4366-840f-d208d6301571",
   "metadata": {},
   "outputs": [
    {
     "name": "stdout",
     "output_type": "stream",
     "text": [
      "++++++++++++++++++++LLM RESPONSE:++++++++++++++++++++++\n",
      "The German Basic Law, also known as the Grundgesetz, was proclaimed on May 23, 1949. It serves as the constitution of Germany and lays down the fundamental values of the society. The Basic Law is a symbol of democracy, freedom, and the rule of law. It guarantees various basic rights such as human dignity, freedom of speech, freedom of the press, freedom of faith, and equal rights. The Basic Law also includes principles regarding the structure of the state, regulations on the Federal and State Governments, provisions for constitutional bodies, legislature, state administration, jurisdiction, and finance.\n",
      "\n",
      "The Basic Law applies to all of Germany since reunification in 1990. It is considered a cornerstone of the German legal system and has been praised for its emphasis on human rights and democratic principles. The Basic Law is a reflection of the lessons learned from the past and aims to protect the rights and freedoms of all individuals in Germany. It continues to be a guiding document that shapes the values and principles of the German society.\n",
      "+++++++++++++++++++++++++++++++++++++++++++++++++++++++\n",
      "++++++++++++++++++++Retrieved Doc 1:+++++++++++++++++++++\n",
      "Dr. Christian Loefert will become the new Head of Marketing at Deutsche Telekom's corporate customer division T-Systems on September 1, 2024. He is currently responsible for marketing communications and mobile devices at Telekom Deutschland. He succeeds Jussi Wacklin, who is leaving the company at his own request. In his new role, Loefert will report to Urs M. Krämer, Managing Director Commercial T-Systems. Jussi Wacklin, who has been responsible for marketing at T-Systems since 2022, is leaving the company at his own request on May 31, 2024. \"I would like to thank Jussi for the work he has done over the past two years and wish him all the best for his professional and private future,\" says Urs M. Krämer.   “Manager with magenta in his blood”   Christian Loefert will take over responsibility for global marketing at T-Systems on September 1. \" Christian has done an excellent job at Telekom Deutschland. I am all the more pleased that we were able to win him over for T-Systems. He is an experienced top marketing manager with magenta in his blood. In addition, he has extensive experience in sales and business management. I am convinced that our marketing activities and our business will benefit from his holistic customer view,\" Krämer emphasizes. Loefert is looking forward to his start at the ICT service provider: \"T-Systems has successfully transformed itself in recent years and is back on the growth path,\" he says. \"I am very excited to support the management team around Ferri Abolhassan in consolidating this trend through successful marketing – and that in an international environment of over 20 markets.\"   In the Telekom Group since 2008   Loefert has been with the Telekom Group since 2008: Initially, the doctor of economics took over the Strategy, Expansion and Projects division at Telekom Shop Vertriebsgesellschaft. He then headed Deutsche Telekom's franchise network with around 200 shops. He was then responsible for channel management and business steering in the private customer segment of Telekom Deutschland before becoming Head of Marketing there in 2019. During this time, he steered the growth of retail sales across all products, played a key role in the successful organizational transformation of the retail segment, and developed award-winning advertising campaigns. Before joining Deutsche Telekom, Loefert worked as a management consultant for McKinsey and headed corporate development at Heinrich Heine GmbH for two years.\n",
      "++++++++++++++++++++++++++++++++++++++++++++++++++++++++++++++++\n",
      "++++++++++++++++++++Retrieved Doc 2:+++++++++++++++++++++\n",
      "The UEFA EURO 2024™ starts in just under three weeks and preparations are entering the final phase. Deutsche Telekom is getting the German soccer stadiums in top technical shape for the tournament. Within the stadiums, it is ensuring the best connectivity and high-speed via 5G and fiber optics. Deutsche Telekom has once again significantly expanded its mobile network in all ten arenas. In total, it has installed around 750 new 5G antennas in the stadiums for UEFA EURO 2024™. 300 of these provide the stands with the fans, and around 450 the indoor areas such as the catacombs and media areas. Deutsche Telekom is also making the network around the stadiums particularly fit for the fans. A total of 38 temporary coverage areas for fan zones, train stations or team quarters ensure the best mobile phone connections. Telekom is installing around 65 new kilometers of fiber optics for the fixed network connection of the stadiums in order to send live images from the matches around the world. Deutsche Telekom is bringing well over 2,000 signal distributors (switches) and connection points for WLAN and cable into the stadiums. “Our goal for this tournament is to provide the best network experience for our customers,” says Abdu Mudesir, CTO Telekom Deutschland. “Our network coverage is already at a very high level. During the European Championships, however, the network will be under even greater strain, especially in terms of capacity. Whether in the stadiums, fan zones, training grounds or at home with the fans - our networks are ready for the major event that is the European Championships. We have been working on this for months. Both in mobile communications and in the fixed network connection to the stadiums.”   Three times as much data throughput in mobile communications   Mobile communications must be fit for the data volumes of spectators at the European Championships. This applies above all in and around the stadiums and for the fan zones. Data traffic is particularly high at sporting events. The data throughput rate in the stadiums is now three times as high. Instead of up to 375 Mbit/s as before, Telekom was now able to measure up to 1.2 Gbit/s in the stands. This means that fans at the matches will experience noticeable improvements when surfing or sending messages. Deutsche Telekom is fully committed to the 3.6 gigahertz frequency, which enables particularly fast transmission. This frequency is used in nine out of ten stadiums. Only in Cologne is this currently not possible for static reasons. Deutsche Telekom also uses 5G and LTE on the 900 megahertz, 1.8 gigahertz, 2.1 gigahertz and 2.6 gigahertz frequency bands. The expanded mobile coverage is already operational in all ten stadiums. The technology will remain in the stadiums after the tournament and will then also provide strong mobile coverage during the league matches.   More power for the fan zones   For UEFA EURO 2024™, the technical teams are also expanding existing sites and deploying 38 temporary solutions. These are mobile antennas that provide mobile communications for heavily frequented areas over a certain period of time. The fan zones are a particular focus. The largest fan mile in Berlin at the Reichstag will receive special coverage for the tournament, as will the fan zones and public viewings in Dortmund, Düsseldorf, Hamburg, Cologne and Stuttgart. The “mobile phone mast to go” will be used 18 times. This container with 5G and LTE antennas is one of Deutsche Telekom's own innovations and can be set up and deployed in a very short space of time.   65 kilometers of new fiber optic lines in the stadiums   The fixed network will also play an important role in the UEFA Euro 2024™ stadiums. A total of around 65 kilometers of new fiber optic lines will be laid in the stadiums. The main task of the fixed network cabling in the stadiums is to provide the media with sufficient capacity and speed for their video and audio reporting. In addition to the fiber optic cables, over 900 additional switches and over 1,300 access points are being installed in the stadiums for this purpose. Switches are distributors that bring communication to every corner. The media, helpers and officials then receive their data access via Wi-Fi via the access points. In addition, 53 dedicated 5G routers provide the media with fast internet via mobile communications. Critical areas such as the media grandstand are protected against outages with special high-availability solutions. Some of the hardware will continue to be used in the stadiums after the tournament or will be used by Telekom at other events. The expansion of stadium technology is absolutely essential for major events such as UEFA Euro 2024™. For example, around 1,200 media representatives are expected to attend the final in Berlin's Olympic Stadium. In a normal league game it is about 80. The majority of the switches have already been installed in the stadiums and some of the cabling has also been completed. The remaining work can now start after the end of the Bundesliga season. The stadiums will then be ready for the final touches.   Fiber optics for images that go around the world   Each stadium is connected to the UEFA International Broadcasting Center (IBC) in Leipzig with two redundant fiber optic lines. It is ensured that these two connections are routed completely separately from each other through the Telekom network. From the IBC, the signals are sent out into the world as television pictures. Each of the fiber optic lines has a capacity of 200 gigabits per second, meaning that a total of four terabits per second of data can arrive at the IBC simultaneously via the fiber optic connections. From the IBC in Leipzig, the signals are also transmitted via Telekom's fiber optics to the 14 official UEFA fan zones, where public viewings are held for the fans.\n",
      "++++++++++++++++++++++++++++++++++++++++++++++++++++++++++++++++\n",
      "++++++++++++++++++++Retrieved Doc 3:+++++++++++++++++++++\n",
      "The AOK community has commissioned T-Systems to provide and manage secure digital identities (GesundheitsID) for the 27 million AOK policyholders. In future, the GesundheitsID will be the key to all digital services offered by AOK - from the electronic patient file (ePA) to the e-prescription and the services of the online office “Meine AOK”. The health ID developed by T-Systems in collaboration with the ID wallet provider Verimi should be available in spring 2025. The contract between AOK and T-Systems has a term of four years and can optionally be extended by a further four years. The digital identities already available from AOK, which have been in use since January 2024 for logging in to the electronic patient file “AOK Mein Leben”, will be transferred to the comprehensive access service for all AOK digital services at the beginning of 2025. “The technical solution from T-Systems guarantees a high level of protection and meets the strict security requirements of the gematik digital agency. This means that our policyholders can rest assured that their sensitive health and social data is protected in the best possible way against unauthorized access,” emphasizes Dr. Carola Reimann, Chairwoman of the Board of the AOK-Bundesverband. “On the other hand, accessing AOK's digital services via smartphone will be much more convenient in future. All of the health insurer's digital applications can be used with a single key.” Ferri Abolhassan, CEO of T-Systems and member of the Board of Management of Deutsche Telekom AG, says: “Secure digital identities are the key to digital solutions in the healthcare sector. E-prescriptions and patient files are the first good examples. In the future, our digital identity will be available to 50 percent of all people with statutory health insurance through AOK and another health insurance company. The technology can also make citizen services, banking transactions and travel easier and more secure, for example. It confirms that someone really is the person they claim to be when they log in. Logging in without passwords - simple and secure.” In future, secure digital identities should make many areas of digital social life easier and more secure at the same time - from online citizen services to electronic patient files and bank accounts. With the Digital Care and Nursing Modernization Act (DVPMG), the statutory health insurance funds have been obliged to introduce secure digital identities as a supplement to the previous identification using the electronic health card (eGK). This gives the eGK a “digital twin” on the smartphone, so to speak, which enables access to data and applications. Like the eGK, the health ID is also intended to serve as proof of insurance.\n",
      "++++++++++++++++++++++++++++++++++++++++++++++++++++++++++++++++\n",
      "++++++++++++++++++++Retrieved Doc 4:+++++++++++++++++++++\n",
      "The German Basic Law was proclaimed on May 23, 1949. It lays down the basic values of our society and is a symbol of democracy, freedom and the rule of law. Telekom also stands for these values and extends its congratulations on this anniversary. At the same time, it calls upon society to take a bigger stand for democratic values and stand up against hate, racism, and extremism. With its message “Human dignity shall also be inviolable in the digital world”, it references the very first, defining article of the Basic Law, which still applies to this day. Deutsche Telekom is intentionally expanding this to include the digital world, since the way people are currently interacting with one another online is increasingly influenced by hate and incendiary language. There is a real need for action. As of tomorrow, Deutsche Telekom will be publishing its call to action through various types of advertisements in Germany. The company will also call on people to participate in the 2024 European elections: “Your vote for Europe, your vote for democracy”. In an entertaining, informative manner, the company will use its social media channels to draw awareness to the importance of participating in the direct election of the European Parliament on June 9, 2024. In addition, the entire Deutsche Telekom Board of Management will support the activities in terms of communication and share the appeals via its own social media channels. According to a recent representative survey by Infratest dimap, more than three quarters of Germans consider the German Basic Law to be a good or very good constitution. Many people are worried about democracy, however, and it is especially at risk online. Studies have indicated that around one quarter of people asked have been insulted or even threatened online and the trend is increasing. The studies also show that younger people are most frequently confronted with hate online. Only few are confident enough to take a stance on something in public for fear of putting themselves at risk. Only 25 percent of respondents to the Hate Speech Forsa-Studie 2023 stated that they had responded to hate speech in order to criticize it. Being confident in advocating for tolerance, acceptance, or more justice can really help. Not only does each and every comment that speaks up against hate, incendiary language, and exclusion lend strength to those affected, it also sends a signal to those reading on in silence.   Right to human dignity   If hate and incendiary language turn into violence or violent actions, as in recent times, it is more important than ever to remind ourselves of the core values at the foundation of democracy: the right to human dignity and the right to physical integrity. Deutsche Telekom supports these values and is calling on society to join together and stand up for our democratic basic rights. Everyone can make a contribution to democracy, freedom and diversity: through constructive dialog, personal commitment or in the upcoming European elections. Every vote counts. Open-mindedness, respect, and solidarity are not only values that help make Germany a place worth living, they also help make it stronger from an economic perspective. The German economy thrives on international relations. It needs people from all over the world who want to live and work here. Not only do populism, nationalism, and right-wing extremist ideologies harm democracy, they impact our economic success, too. Deutsche Telekom calls on the strength of community: take a stand and dedicate yourselves along with us to nurturing freedom, diversity, and a welcoming culture. Diversity is our strength.   75 years of the German Basic Law   The Basic Law begins with this first, defining article: “Human dignity shall be inviolable. To respect and protect it shall be the duty of all state authority”. Further basic rights are then listed, ending with Article 19. They guarantee freedom of speech and of the press, freedom of faith, and equal rights. The Basic Law also includes principles regarding state structure, general regulations on the Federal and State Governments, provisions for individual constitutional bodies such as the Federal Government and Bundestag, on legislature, state administration, jurisdiction, and finance. The Basic Law has applied to all of Germany since reunification in 1990. More information under 75 Years of the Basic Law and on the DNA of Democracy project pages, both in German.   For diversity and democracy   Deutsche Telekom stands for democratic values. It does not tolerate any kind of hate or incendiary language, discrimination, racism, or fascism. It stands for everything that connects people, societies, and cultures. Deutsche Telekom clearly and aggressively rejects attitudes that divide and separate. It has made a public and transparent commitment to this via its Code of Conduct, the Diversity Policy, and the Code of Human Rights. It makes its stance on the matter loud and clear to the public through long-term initiatives such as “No hate speech.” Since 2020, Deutsche Telekom has joined together with many other partner organizations to take a stand for respectful behavior online.\n",
      "++++++++++++++++++++++++++++++++++++++++++++++++++++++++++++++++\n",
      "++++++++++++++++++++Retrieved Doc 5:+++++++++++++++++++++\n",
      "Deutsche Telekom has installed a private 5G campus network for RTL Deutschland, which will be put into operation just in time for the European Football Championship. With the “Campus Network Private” business customer solution, the media company is the first in Germany to supply its production studios with 5G via its own 5G standalone (5G SA) network. This makes TV production even more flexible: for example, the solution enables the use of wireless cameras both inside and outside the studios. Until now, live productions have mainly been realized with wired cameras that are moved around the studio for dynamic image control. In the future, wirelessly connected cameras will offer even greater flexibility for TV broadcasting. The in-house campus network provides a tailored infrastructure for optimized performance and dynamic environments. The short ways of the independent 5G architecture support data-intensive applications with ultra-short response times in the millisecond range. This enables particularly fast data processing. In addition to wireless cameras, the network will also enable the operation of wireless microphones, a wireless intercom and dedicated access to the internet in the future. Other production-relevant systems are also to be tested via 5G. “RTL Deutschland produces its must-see content in outstanding quality. In partnership with Deutsche Telekom, we are now operating an independent 5G mobile network at our broadcasting center in Cologne to bring our high-reach content to our viewers and users even more conveniently and efficiently. This is a further step in our innovation partnership,” says Matthias Dang, Chief Commercial, Technology & Data Officer at RTL Deutschland. Klaus Werner, Managing Director for Business Customers at Telekom Deutschland, adds: “With RTL, we have an innovative partner with whom we can jointly develop our products and solutions and bring them to market maturity. Thanks to its network architecture with 5G standalone technology, the 5G Campus network meets the particularly high requirements of live TV production and offers important features such as minimal response times and high bandwidths.”   Maximum 5G performance also for the 2024 European Championship   The broadcasts surrounding this year's European Football Championship will also benefit from the advantages of the campus network on the production site. The innovation network will be extended to a neighboring event site during the tournament. Here, coverage of the public viewing will take place live via RTL's private 5G campus network. This will ensure a flawless live broadcast, even if the mobile cells of the public network are busy. Deutsche Telekom and RTL have already successfully tested live broadcast via the public Telekom 5G SA network with network slicing for reporting on the move.   Campus Network Private for individual requirements   The 5G campus network will not only be installed in two RTL studios, but also in the so-called mall. In addition, RTL's visitor parking lot in Cologne-Deutz will be supplied with 5G. Together with the area for public viewing during the European Championships, the campus network thus covers an area of more than 35,000 square meters. This enables RTL to provide uninterrupted coverage both indoors and outdoors. The 5G SA network operates separately from the public mobile network. The entire infrastructure, from the antennas and active system technology to the core network, comes from Ericsson and is installed locally on the site in Cologne-Deutz. This means that all data traffic remains in the local campus network. A total of six antennas were installed for the campus network at RTL Deutschland: two outdoors, one of which is used temporarily, and four more indoors. High upload bandwidths of around 500 megabits per second (Mbit/s) are realized for the live productions. The delay rate must not exceed 25 milliseconds. The 5G SA network operates on frequencies reserved specifically for RTL Deutschland in the 3.7 to 3.8 gigahertz range. Up to 100 megahertz bandwidth is thus exclusively available to the broadcaster.   Full control & flexibility   RTL Deutschland can flexibly adapt the private network and manage various functions on-demand. For example, data traffic within the campus network is prioritized for specific applications as required. The closed system is characterized by its high level of data security and reliability: Thanks to a redundant architecture of the local core network, the network continues to function reliably even in the event of an interruption to the cloud-based management portal. In addition, the TV broadcaster benefits from guaranteed and continuous availability.\n",
      "++++++++++++++++++++++++++++++++++++++++++++++++++++++++++++++++\n"
     ]
    }
   ],
   "source": [
    "# load all press releases\n",
    "release_data: list[str] = load_press_release_data('data_limited')\n",
    "# check if embeddings are already generated\n",
    "# generate and store embeddings, if does not exists\n",
    "if not os.path.exists('data_limited_embeddings'):\n",
    "    release_data_embeddings: list[list] = []\n",
    "    for file_index, file_data in enumerate(release_data):\n",
    "        embedding = generate_embedding(file_data)\n",
    "        release_data_embeddings.append(embedding)\n",
    "        store_embeddings('data_limited_embeddings', f\"{file_index}.txt\", embedding)\n",
    "else:\n",
    "    # fetch existing embeddings\n",
    "    release_data_embeddings = fetch_embeddings('data_limited_embeddings')\n",
    "\n",
    "# convert list to numpy array\n",
    "release_data_embeddings = np.array(release_data_embeddings)\n",
    "# generate index from embeddings\n",
    "index = generate_index(release_data_embeddings)\n",
    "\n",
    "\n",
    "question = \"Tell me something about German Basic Law\"\n",
    "# retrieve matching docs using index search\n",
    "related_release_data = retrieval_service(index, release_data, question)\n",
    "\n",
    "# join all matching press releases in a single string\n",
    "context = \" \".join(related_release_data)\n",
    "# OPENAI API call\n",
    "llm_response = generate_response(context, question)\n",
    "\n",
    "print(\"++++++++++++++++++++LLM RESPONSE:++++++++++++++++++++++\")\n",
    "print(llm_response)\n",
    "print(\"+++++++++++++++++++++++++++++++++++++++++++++++++++++++\")\n",
    "\n",
    "for index, retrieved_docs in enumerate(related_release_data, 1):\n",
    "    print(f\"++++++++++++++++++++Retrieved Doc {index}:+++++++++++++++++++++\")\n",
    "    print(retrieved_docs)\n",
    "    print(\"++++++++++++++++++++++++++++++++++++++++++++++++++++++++++++++++\")"
   ]
  },
  {
   "cell_type": "code",
   "execution_count": null,
   "id": "0dec2b8b-f5bb-456d-a6d3-07eea9d08bfb",
   "metadata": {},
   "outputs": [],
   "source": []
  },
  {
   "cell_type": "code",
   "execution_count": null,
   "id": "b111e58d-7925-422d-aded-cb113fd6395d",
   "metadata": {},
   "outputs": [],
   "source": []
  }
 ],
 "metadata": {
  "kernelspec": {
   "display_name": "Python 3 (ipykernel)",
   "language": "python",
   "name": "python3"
  },
  "language_info": {
   "codemirror_mode": {
    "name": "ipython",
    "version": 3
   },
   "file_extension": ".py",
   "mimetype": "text/x-python",
   "name": "python",
   "nbconvert_exporter": "python",
   "pygments_lexer": "ipython3",
   "version": "3.10.14"
  }
 },
 "nbformat": 4,
 "nbformat_minor": 5
}
